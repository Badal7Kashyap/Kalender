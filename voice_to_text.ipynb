{
 "cells": [
  {
   "cell_type": "code",
   "execution_count": 3,
   "metadata": {},
   "outputs": [
    {
     "name": "stdout",
     "output_type": "stream",
     "text": [
      "Please speak: \n",
      "You said: 5\n",
      "5\n",
      "25\n"
     ]
    }
   ],
   "source": [
    "import speech_recognition as spr\n",
    "\n",
    "spr.Microphone(device_index=1)\n",
    "\n",
    "reg=spr.Recognizer()\n",
    "reg.energy_threshold=100\n",
    "with spr.Microphone() as device:\n",
    "    print(\"Please speak: \")\n",
    "    voice=reg.listen(device)\n",
    "    \n",
    "    try:\n",
    "        text=reg.recognize_google(voice)\n",
    "        print(\"You said: {}\".format(text))\n",
    "    except:\n",
    "        print(\"unable to understand\")\n"
   ]
  },
  {
   "cell_type": "code",
   "execution_count": null,
   "metadata": {},
   "outputs": [],
   "source": []
  }
 ],
 "metadata": {
  "kernelspec": {
   "display_name": "Python 3",
   "language": "python",
   "name": "python3"
  },
  "language_info": {
   "codemirror_mode": {
    "name": "ipython",
    "version": 3
   },
   "file_extension": ".py",
   "mimetype": "text/x-python",
   "name": "python",
   "nbconvert_exporter": "python",
   "pygments_lexer": "ipython3",
   "version": "3.6.7"
  }
 },
 "nbformat": 4,
 "nbformat_minor": 2
}
